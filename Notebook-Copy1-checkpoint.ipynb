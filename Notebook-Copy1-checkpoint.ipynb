{
 "cells": [
  {
   "cell_type": "markdown",
   "id": "0c09f766",
   "metadata": {},
   "source": [
    "R,Python,SQL"
   ]
  },
  {
   "cell_type": "markdown",
   "id": "ffb8ff99",
   "metadata": {},
   "source": [
    "Python: numpy,pandas,sklearn etc.\n",
    "R:ggplot,dplyr etc."
   ]
  },
  {
   "cell_type": "markdown",
   "id": "470db752",
   "metadata": {},
   "source": [
    "juptyer notebooks,Rstudio,VS code"
   ]
  },
  {
   "cell_type": "markdown",
   "id": "e0f90432",
   "metadata": {},
   "source": [
    "An arithmetic expression is a combination of numbers and arithmetic operators, such as addition, subtraction, multiplication, and division. For example, 2 + 3, 5 - 4, 6 * 7, and 8 / 2 are all arithmetic expressions. You can also use parentheses to change the order of operations in an arithmetic expression. For example, (2 + 3) * 4 is different from 2 + (3 * 4)."
   ]
  },
  {
   "cell_type": "code",
   "execution_count": 2,
   "id": "4f3707ca",
   "metadata": {},
   "outputs": [
    {
     "name": "stdout",
     "output_type": "stream",
     "text": [
      "6\n",
      "8\n"
     ]
    }
   ],
   "source": [
    "a=3+3\n",
    "b=4*2\n",
    "print(a)\n",
    "print(b)"
   ]
  },
  {
   "cell_type": "code",
   "execution_count": 3,
   "id": "9f0f07c9",
   "metadata": {},
   "outputs": [
    {
     "name": "stdout",
     "output_type": "stream",
     "text": [
      "2:10\n"
     ]
    }
   ],
   "source": [
    "def convert_minutes_to_hours(minutes):\n",
    "    # Get the number of hours using floor division\n",
    "    hours = minutes // 60\n",
    "    # Get the remaining minutes using modulus\n",
    "    minutes = minutes % 60\n",
    "    # Format the result as a string\n",
    "    time = \"{}:{}\".format(hours, minutes)\n",
    "    return time\n",
    "\n",
    "# Test the function with 130 minutes\n",
    "print(convert_minutes_to_hours(130))"
   ]
  },
  {
   "cell_type": "markdown",
   "id": "ead942a7",
   "metadata": {},
   "source": [
    "objectives:\n",
    "a,b,c,d,e"
   ]
  },
  {
   "cell_type": "markdown",
   "id": "3cbe8428",
   "metadata": {},
   "source": [
    "Author:Andy Yanqi Wang"
   ]
  },
  {
   "cell_type": "code",
   "execution_count": null,
   "id": "7c43e504",
   "metadata": {},
   "outputs": [],
   "source": []
  }
 ],
 "metadata": {
  "kernelspec": {
   "display_name": "Python 3 (ipykernel)",
   "language": "python",
   "name": "python3"
  },
  "language_info": {
   "codemirror_mode": {
    "name": "ipython",
    "version": 3
   },
   "file_extension": ".py",
   "mimetype": "text/x-python",
   "name": "python",
   "nbconvert_exporter": "python",
   "pygments_lexer": "ipython3",
   "version": "3.8.8"
  }
 },
 "nbformat": 4,
 "nbformat_minor": 5
}
